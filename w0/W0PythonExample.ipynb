{
 "cells": [
  {
   "cell_type": "markdown",
   "id": "03c9f30e",
   "metadata": {},
   "source": [
    "The power of x"
   ]
  },
  {
   "cell_type": "code",
   "execution_count": null,
   "id": "b0b14124",
   "metadata": {},
   "outputs": [],
   "source": [
    "x = 859\n",
    "y= 36"
   ]
  },
  {
   "cell_type": "code",
   "execution_count": 12,
   "id": "625c9189",
   "metadata": {},
   "outputs": [],
   "source": [
    "z=x+y"
   ]
  },
  {
   "cell_type": "code",
   "execution_count": 13,
   "id": "f31b7045",
   "metadata": {},
   "outputs": [
    {
     "name": "stdout",
     "output_type": "stream",
     "text": [
      "1018\n"
     ]
    }
   ],
   "source": [
    "print(z)"
   ]
  },
  {
   "cell_type": "code",
   "execution_count": 10,
   "id": "8cc8e631",
   "metadata": {},
   "outputs": [],
   "source": [
    "y = 159"
   ]
  },
  {
   "cell_type": "code",
   "execution_count": 11,
   "id": "cca092c5",
   "metadata": {},
   "outputs": [
    {
     "data": {
      "text/plain": [
       "895"
      ]
     },
     "execution_count": 11,
     "metadata": {},
     "output_type": "execute_result"
    }
   ],
   "source": [
    "z"
   ]
  },
  {
   "cell_type": "code",
   "execution_count": 17,
   "id": "dbbc96cd",
   "metadata": {},
   "outputs": [],
   "source": [
    "my_int = 5\n",
    "my_float = 7.9\n",
    "my_str = \"Hello there!\"\n",
    "\n",
    "my_bool = True"
   ]
  },
  {
   "cell_type": "code",
   "execution_count": 18,
   "id": "81c4a8ee",
   "metadata": {},
   "outputs": [
    {
     "data": {
      "text/plain": [
       "int"
      ]
     },
     "execution_count": 18,
     "metadata": {},
     "output_type": "execute_result"
    }
   ],
   "source": [
    "type(my_int)"
   ]
  },
  {
   "cell_type": "code",
   "execution_count": 19,
   "id": "da17ed2a",
   "metadata": {},
   "outputs": [
    {
     "data": {
      "text/plain": [
       "float"
      ]
     },
     "execution_count": 19,
     "metadata": {},
     "output_type": "execute_result"
    }
   ],
   "source": [
    "type(my_float)"
   ]
  },
  {
   "cell_type": "code",
   "execution_count": 20,
   "id": "cecacacd",
   "metadata": {},
   "outputs": [],
   "source": [
    "a = my_int + my_float"
   ]
  },
  {
   "cell_type": "code",
   "execution_count": 22,
   "id": "9a43e4d8",
   "metadata": {},
   "outputs": [
    {
     "data": {
      "text/plain": [
       "float"
      ]
     },
     "execution_count": 22,
     "metadata": {},
     "output_type": "execute_result"
    }
   ],
   "source": [
    "type(a)"
   ]
  },
  {
   "cell_type": "code",
   "execution_count": 23,
   "id": "c9e125e1",
   "metadata": {},
   "outputs": [
    {
     "ename": "TypeError",
     "evalue": "unsupported operand type(s) for +: 'int' and 'str'",
     "output_type": "error",
     "traceback": [
      "\u001b[1;31m-----------------------------------------------------------------\u001b[0m",
      "\u001b[1;31mTypeError\u001b[0m                       Traceback (most recent call last)",
      "Input \u001b[1;32mIn [23]\u001b[0m, in \u001b[0;36m<cell line: 1>\u001b[1;34m()\u001b[0m\n\u001b[1;32m----> 1\u001b[0m \u001b[43mmy_int\u001b[49m\u001b[43m \u001b[49m\u001b[38;5;241;43m+\u001b[39;49m\u001b[43m \u001b[49m\u001b[43mmy_str\u001b[49m\n",
      "\u001b[1;31mTypeError\u001b[0m: unsupported operand type(s) for +: 'int' and 'str'"
     ]
    }
   ],
   "source": [
    "my_int + my_str"
   ]
  },
  {
   "cell_type": "code",
   "execution_count": 24,
   "id": "f9e48d9a",
   "metadata": {},
   "outputs": [
    {
     "name": "stdout",
     "output_type": "stream",
     "text": [
      "24911\n"
     ]
    }
   ],
   "source": [
    "print(x*29)"
   ]
  },
  {
   "cell_type": "code",
   "execution_count": 25,
   "id": "956a07bc",
   "metadata": {},
   "outputs": [
    {
     "name": "stdout",
     "output_type": "stream",
     "text": [
      "1018\n"
     ]
    }
   ],
   "source": [
    "print(x+y)"
   ]
  },
  {
   "cell_type": "code",
   "execution_count": 27,
   "id": "a4bee056",
   "metadata": {},
   "outputs": [
    {
     "name": "stdout",
     "output_type": "stream",
     "text": [
      "Collecting scx\n",
      "  Downloading scx-1.0.7.tar.gz (8.4 kB)\n",
      "  Installing build dependencies: started\n",
      "  Installing build dependencies: finished with status 'done'\n",
      "  Getting requirements to build wheel: started\n",
      "  Getting requirements to build wheel: finished with status 'done'\n",
      "  Preparing metadata (pyproject.toml): started\n",
      "  Preparing metadata (pyproject.toml): finished with status 'done'\n",
      "Collecting PuLP==2.6.0\n",
      "  Downloading PuLP-2.6.0-py3-none-any.whl (14.2 MB)\n",
      "     ---------------------------------------- 14.2/14.2 MB 7.1 MB/s eta 0:00:00\n",
      "Collecting type-enforced==0.0.14\n",
      "  Downloading type_enforced-0.0.14.tar.gz (8.8 kB)\n",
      "  Installing build dependencies: started\n",
      "  Installing build dependencies: finished with status 'done'\n",
      "  Getting requirements to build wheel: started\n",
      "  Getting requirements to build wheel: finished with status 'done'\n",
      "  Preparing metadata (pyproject.toml): started\n",
      "  Preparing metadata (pyproject.toml): finished with status 'done'\n",
      "Building wheels for collected packages: scx, type-enforced\n",
      "  Building wheel for scx (pyproject.toml): started\n",
      "  Building wheel for scx (pyproject.toml): finished with status 'done'\n",
      "  Created wheel for scx: filename=scx-1.0.7-py3-none-any.whl size=7822 sha256=00ee07e7cfe670cd01d654811a9aa44aaecc214aa638a15091f894fc62166ac6\n",
      "  Stored in directory: c:\\users\\caroline.c.barbosa\\appdata\\local\\pip\\cache\\wheels\\ff\\ae\\5e\\c160a6ed8cfc52beda5e5d848f163e4204f802af93c5edb6de\n",
      "  Building wheel for type-enforced (pyproject.toml): started\n",
      "  Building wheel for type-enforced (pyproject.toml): finished with status 'done'\n",
      "  Created wheel for type-enforced: filename=type_enforced-0.0.14-py3-none-any.whl size=6283 sha256=1c0d364c109e2d4c8ece57397185ce608bbb04906c7d19598085b76b8ed5460e\n",
      "  Stored in directory: c:\\users\\caroline.c.barbosa\\appdata\\local\\pip\\cache\\wheels\\2b\\a4\\cd\\9eb5d32dcc35f5f151f6b763fcdb30b146fdbe91a1c1f85191\n",
      "Successfully built scx type-enforced\n",
      "Installing collected packages: PuLP, type-enforced, scx\n",
      "Successfully installed PuLP-2.6.0 scx-1.0.7 type-enforced-0.0.14\n"
     ]
    },
    {
     "name": "stderr",
     "output_type": "stream",
     "text": [
      "WARNING: You are using pip version 22.0.4; however, version 23.1.2 is available.\n",
      "You should consider upgrading via the 'C:\\Users\\caroline.c.barbosa\\AppData\\Local\\Programs\\Python\\Python310\\python.exe -m pip install --upgrade pip' command.\n"
     ]
    }
   ],
   "source": [
    "!pip install scx"
   ]
  },
  {
   "cell_type": "code",
   "execution_count": null,
   "id": "59ddbc2e",
   "metadata": {},
   "outputs": [],
   "source": []
  }
 ],
 "metadata": {
  "kernelspec": {
   "display_name": "Python 3 (ipykernel)",
   "language": "python",
   "name": "python3"
  },
  "language_info": {
   "codemirror_mode": {
    "name": "ipython",
    "version": 3
   },
   "file_extension": ".py",
   "mimetype": "text/x-python",
   "name": "python",
   "nbconvert_exporter": "python",
   "pygments_lexer": "ipython3",
   "version": "3.10.4"
  }
 },
 "nbformat": 4,
 "nbformat_minor": 5
}
