{
 "cells": [
  {
   "cell_type": "markdown",
   "id": "cf99c247",
   "metadata": {},
   "source": [
    "# SandyCo Problem \n",
    "SandyCo has 2 facilities that mine, clean, and sort sand for use in\n",
    "cement, children’s playboxes, and small beaches. They distribute sand\n",
    "from their two plants to three different customer regions where it is\n",
    "packaged and sold.\n",
    "Please refer to the material of week 1 of course for more details about this problem.\n",
    "## Problem Objective\n",
    "How much sand should SandyCo ship from each plant to each region\n",
    "each week to meet demand at the lowest planned distribution costs?\n",
    "\n",
    "## Input Data\n"
   ]
  },
  {
   "cell_type": "code",
   "execution_count": 13,
   "id": "f6c5428d",
   "metadata": {},
   "outputs": [],
   "source": [
    "S = [100, 125]\n",
    "D = [25, 95, 80]\n",
    "C = [\n",
    "        [250, 325, 445],\n",
    "        [275, 260, 460]\n",
    "    ]"
   ]
  },
  {
   "cell_type": "code",
   "execution_count": 14,
   "id": "8c6f8668",
   "metadata": {},
   "outputs": [],
   "source": [
    "# defining number of plants and customer's region\n",
    "num_plants = len(S)\n",
    "num_regions = len(D)"
   ]
  },
  {
   "cell_type": "markdown",
   "id": "6e0e04e1",
   "metadata": {},
   "source": [
    "## Math formulation"
   ]
  },
  {
   "cell_type": "code",
   "execution_count": 15,
   "id": "764eab59",
   "metadata": {},
   "outputs": [],
   "source": [
    "#uncomment the line below if you don't have ortools' module installed in your environment and execute this cell\n",
    "# !pip install ortools"
   ]
  },
  {
   "cell_type": "code",
   "execution_count": 16,
   "id": "6a657cc5",
   "metadata": {},
   "outputs": [],
   "source": [
    "\"\"\"\n",
    "for more information about google ortools refer to https://developers.google.com/optimization\n",
    "\"\"\"\n",
    "\n",
    "from ortools.linear_solver import pywraplp"
   ]
  },
  {
   "cell_type": "code",
   "execution_count": 17,
   "id": "1f230250",
   "metadata": {},
   "outputs": [],
   "source": [
    "# Create the mip solver with the SCIP backend.\n",
    "solver = pywraplp.Solver.CreateSolver('SCIP')\n"
   ]
  },
  {
   "cell_type": "code",
   "execution_count": 18,
   "id": "31884996",
   "metadata": {},
   "outputs": [],
   "source": [
    "# Declare an Matrix to hold our variables for each x_ij.\n",
    "x = {}\n",
    "for i in range(num_plants):\n",
    "    for j in range(num_regions):\n",
    "        x[i,j] = solver.NumVar(0, solver.infinity(), \"\")\n"
   ]
  },
  {
   "cell_type": "code",
   "execution_count": 19,
   "id": "ce1becbd",
   "metadata": {},
   "outputs": [
    {
     "name": "stdout",
     "output_type": "stream",
     "text": [
      "Number of variables = 6\n"
     ]
    }
   ],
   "source": [
    "print('Number of variables =', solver.NumVariables())"
   ]
  },
  {
   "cell_type": "code",
   "execution_count": 20,
   "id": "443705f6",
   "metadata": {},
   "outputs": [],
   "source": [
    "# constraints\n",
    "for i in range(num_plants):\n",
    "    solver.Add(solver.Sum([x[i,j] for j in range(num_regions)]) <= S[i])\n",
    "    \n",
    "    \n",
    "for j in range(num_regions):\n",
    "    solver.Add(solver.Sum([x[i,j] for i in range(num_plants)]) >= D[j])"
   ]
  },
  {
   "cell_type": "code",
   "execution_count": 21,
   "id": "a341eec7",
   "metadata": {},
   "outputs": [
    {
     "name": "stdout",
     "output_type": "stream",
     "text": [
      "Number of constraints = 5\n"
     ]
    }
   ],
   "source": [
    "print('Number of constraints =', solver.NumConstraints())"
   ]
  },
  {
   "cell_type": "code",
   "execution_count": 23,
   "id": "206e1163",
   "metadata": {},
   "outputs": [],
   "source": [
    "# Objective Function\n",
    "solver.Minimize(solver.Sum([C[i][j] * x[i,j] for i in range(num_plants) for j in range(num_regions)]))"
   ]
  },
  {
   "cell_type": "code",
   "execution_count": 24,
   "id": "217de39c",
   "metadata": {},
   "outputs": [],
   "source": [
    "# Solve the system.\n",
    "status = solver.Solve()"
   ]
  },
  {
   "cell_type": "code",
   "execution_count": 29,
   "id": "06997511",
   "metadata": {},
   "outputs": [
    {
     "name": "stdout",
     "output_type": "stream",
     "text": [
      "Total cost = 66625.0\n",
      "\n",
      "Plant 0 supplies 25.0 tons to Region 0\n",
      "Plant 0 supplies 0.0 tons to Region 1\n",
      "Plant 0 supplies 75.0 tons to Region 2\n",
      "Plant 1 supplies 0.0 tons to Region 0\n",
      "Plant 1 supplies 95.0 tons to Region 1\n",
      "Plant 1 supplies 5.0 tons to Region 2\n",
      "\n",
      "Advanced usage:\n",
      "Problem solved in 577892.000000 milliseconds\n",
      "Problem solved in 0 iterations\n"
     ]
    }
   ],
   "source": [
    "if status == pywraplp.Solver.OPTIMAL or status == pywraplp.Solver.FEASIBLE:\n",
    "    print(f'Total cost = {solver.Objective().Value()}\\n')\n",
    "    for i in range(num_plants):\n",
    "        for j in range(num_regions):\n",
    "            # Test if x[i,j] is 1 (with tolerance for floating point arithmetic).\n",
    "            print(f'Plant {i} supplies ' +\n",
    "                  f'{x[i,j].solution_value()} tons '+\n",
    "                 f'to Region {j}')\n",
    "else:\n",
    "    print('No solution found.')\n",
    "print('\\nAdvanced usage:')\n",
    "print('Problem solved in %f milliseconds' % solver.wall_time())\n",
    "print('Problem solved in %d iterations' % solver.iterations())\n",
    "\n",
    "\n"
   ]
  },
  {
   "cell_type": "code",
   "execution_count": null,
   "id": "da8b15b9",
   "metadata": {},
   "outputs": [],
   "source": []
  }
 ],
 "metadata": {
  "kernelspec": {
   "display_name": "Python 3 (ipykernel)",
   "language": "python",
   "name": "python3"
  },
  "language_info": {
   "codemirror_mode": {
    "name": "ipython",
    "version": 3
   },
   "file_extension": ".py",
   "mimetype": "text/x-python",
   "name": "python",
   "nbconvert_exporter": "python",
   "pygments_lexer": "ipython3",
   "version": "3.10.4"
  }
 },
 "nbformat": 4,
 "nbformat_minor": 5
}
