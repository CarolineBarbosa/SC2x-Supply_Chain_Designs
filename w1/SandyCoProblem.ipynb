{
 "cells": [
  {
   "cell_type": "markdown",
   "id": "cf99c247",
   "metadata": {},
   "source": [
    "# SandyCo Problem \n",
    "Please refer to the material of week 1 of course for more details about this problem.\n",
    "SandyCo has 2 facilities that supplies materials to three different customer regions.\n",
    "\n",
    "## Problem Objective\n",
    "How much sand should SandyCo ship from each plant to each region\n",
    "each week to meet demand at the lowest planned distribution costs?\n",
    "\n",
    "## Input Data\n"
   ]
  },
  {
   "cell_type": "code",
   "execution_count": 1,
   "id": "f6c5428d",
   "metadata": {},
   "outputs": [],
   "source": [
    "S = [100, 125]  # quantity supplied from facility\n",
    "D = [25, 95, 80]    # quantity demanded at region\n",
    "C = [\n",
    "        [250, 325, 445],\n",
    "        [275, 260, 460]\n",
    "    ]           # costs from i to j"
   ]
  },
  {
   "cell_type": "code",
   "execution_count": 2,
   "id": "8c6f8668",
   "metadata": {},
   "outputs": [],
   "source": [
    "# defining number of plants and customer's region\n",
    "num_plants = len(S)\n",
    "num_regions = len(D)"
   ]
  },
  {
   "cell_type": "markdown",
   "id": "6e0e04e1",
   "metadata": {},
   "source": [
    "## Math formulation"
   ]
  },
  {
   "cell_type": "code",
   "execution_count": 3,
   "id": "764eab59",
   "metadata": {},
   "outputs": [],
   "source": [
    "#uncomment the line below if you don't have ortools' module installed in your environment and execute this cell\n",
    "# !pip install ortools"
   ]
  },
  {
   "cell_type": "code",
   "execution_count": 4,
   "id": "6a657cc5",
   "metadata": {},
   "outputs": [],
   "source": [
    "\"\"\"\n",
    "for more information about Google OR-Tools, please refer to https://developers.google.com/optimization\n",
    "On their website, you will find numerous tutorials and examples that serve as helpful guides.\n",
    "\"\"\"\n",
    "\n",
    "from ortools.linear_solver import pywraplp"
   ]
  },
  {
   "cell_type": "code",
   "execution_count": 5,
   "id": "1f230250",
   "metadata": {},
   "outputs": [],
   "source": [
    "# Create the mip solver with the SCIP backend.\n",
    "solver = pywraplp.Solver.CreateSolver('SCIP')\n"
   ]
  },
  {
   "cell_type": "markdown",
   "id": "b664fc27",
   "metadata": {},
   "source": [
    "### Decision Variables"
   ]
  },
  {
   "cell_type": "code",
   "execution_count": 6,
   "id": "31884996",
   "metadata": {},
   "outputs": [
    {
     "name": "stdout",
     "output_type": "stream",
     "text": [
      "Number of variables = 6\n"
     ]
    }
   ],
   "source": [
    "# Declare an Matrix to hold our variables for each x_ij.\n",
    "# When defining the range of the variable, I have already taken into account the constraint x>= 0.\n",
    "x = {}\n",
    "for i in range(num_plants):\n",
    "    for j in range(num_regions):\n",
    "        x[i,j] = solver.NumVar(0, solver.infinity(), \"\")\n",
    "\n",
    "print('Number of variables =', solver.NumVariables())"
   ]
  },
  {
   "cell_type": "markdown",
   "id": "b5420208",
   "metadata": {},
   "source": [
    "Note: python start its counting at 0. \n",
    "\n",
    "This means we will have x_00 intead of x_11."
   ]
  },
  {
   "cell_type": "markdown",
   "id": "287b8ccf",
   "metadata": {},
   "source": [
    "### constraints"
   ]
  },
  {
   "cell_type": "code",
   "execution_count": 7,
   "id": "443705f6",
   "metadata": {},
   "outputs": [
    {
     "name": "stdout",
     "output_type": "stream",
     "text": [
      "Number of constraints = 5\n"
     ]
    }
   ],
   "source": [
    "#Supply limit \n",
    "## ex. x11 + x12 + x13 <= S1\n",
    "for i in range(num_plants):\n",
    "    sum_value = 0\n",
    "    for j in range(num_regions):\n",
    "        sum_value += x[i,j]\n",
    "    solver.Add(sum_value <= S[i])\n",
    "    \n",
    "# Demand requirement\n",
    "## ex. x11 + x21 >= D1\n",
    "for j in range(num_regions):\n",
    "    solver.Add(solver.Sum([x[i,j] for i in range(num_plants)]) >= D[j])\n",
    "\n",
    "print('Number of constraints =', solver.NumConstraints())"
   ]
  },
  {
   "cell_type": "markdown",
   "id": "d8cfdaee",
   "metadata": {},
   "source": [
    "Note:\n",
    "The code snippet provided above creates two constraints: supply limit constraints and demand requirement constraints.\n",
    "\n",
    "For the supply limit constraints, the first approach uses a nested loop to iterate over each plant and region combination, calculating the sum of variables and adding the constraint.\n",
    "The second approach takes a more pythonic approach, using a list comprehension to generate the variables and calculates the sum.\n",
    "Despite the difference in implementation, both methods achieve the same result by creating the constraint in the same manner.\n",
    "\n",
    "For more information about the Pythonic way of coding, you can refer to various resources such as:\n",
    "https://www.askpython.com/python/examples/pythonic-way-of-coding"
   ]
  },
  {
   "cell_type": "markdown",
   "id": "446db414",
   "metadata": {},
   "source": [
    "### Objective Function"
   ]
  },
  {
   "cell_type": "code",
   "execution_count": 8,
   "id": "206e1163",
   "metadata": {},
   "outputs": [],
   "source": [
    "## sum of the cost per ton times the total volume\n",
    "## min [c11*x11 + c12*c12 + ... ]\n",
    "solver.Minimize(solver.Sum([C[i][j] * x[i,j] for i in range(num_plants) for j in range(num_regions)]))"
   ]
  },
  {
   "cell_type": "markdown",
   "id": "dcd8c6c7",
   "metadata": {},
   "source": [
    "### Solve the system."
   ]
  },
  {
   "cell_type": "code",
   "execution_count": 9,
   "id": "aba84618",
   "metadata": {},
   "outputs": [],
   "source": [
    "status = solver.Solve()"
   ]
  },
  {
   "cell_type": "code",
   "execution_count": 10,
   "id": "06997511",
   "metadata": {},
   "outputs": [
    {
     "name": "stdout",
     "output_type": "stream",
     "text": [
      "Total cost = 66625.0\n",
      " per week\n",
      "Plant 0 supplies 25.0 tons to Region 0\n",
      "Plant 0 supplies 0.0 tons to Region 1\n",
      "Plant 0 supplies 75.0 tons to Region 2\n",
      "Plant 1 supplies 0.0 tons to Region 0\n",
      "Plant 1 supplies 95.0 tons to Region 1\n",
      "Plant 1 supplies 5.0 tons to Region 2\n",
      "\n",
      "Advanced usage:\n",
      "Problem solved in 129.000000 milliseconds\n",
      "Problem solved in 0 iterations\n"
     ]
    }
   ],
   "source": [
    "if status == pywraplp.Solver.OPTIMAL or status == pywraplp.Solver.FEASIBLE:\n",
    "    print(f'Total cost = {solver.Objective().Value()}\\n per week')\n",
    "    for i in range(num_plants):\n",
    "        for j in range(num_regions):\n",
    "            # Test if x[i,j] is 1 (with tolerance for floating point arithmetic).\n",
    "            print(f'Plant {i} supplies ' +\n",
    "                  f'{x[i,j].solution_value()} tons '+\n",
    "                 f'to Region {j}')\n",
    "else:\n",
    "    print('No solution found.')\n",
    "print('\\nAdvanced usage:')\n",
    "print('Problem solved in %f milliseconds' % solver.wall_time())\n",
    "print('Problem solved in %d iterations' % solver.iterations())\n",
    "\n",
    "\n"
   ]
  },
  {
   "cell_type": "markdown",
   "id": "2145a434",
   "metadata": {},
   "source": [
    "# Part II - Transhipment Problem\n",
    "Now, 2 distribution centers are added to the problem. All the demand and supply data remain the same.\n",
    "## Problem Objective\n",
    "How much sand should SandyCo ship from each plant to each\n",
    "packaging center and then to each region each week to meet demand\n",
    "at the lowest planned distribution costs?"
   ]
  },
  {
   "cell_type": "markdown",
   "id": "70ba3889",
   "metadata": {},
   "source": [
    "## Input\n",
    "There are new costs, now that the flow goes from the facility to the DC and from the DC to the region\n",
    "\n",
    "i -> plants\n",
    "\n",
    "j -> regions\n",
    "\n",
    "k -> Distribuiton Center "
   ]
  },
  {
   "cell_type": "code",
   "execution_count": 11,
   "id": "68ab228f",
   "metadata": {},
   "outputs": [],
   "source": [
    "C_ik = [\n",
    "        [190, 210],\n",
    "        [185, 205]\n",
    "    ]           # costs from i to k\n",
    "C_kj = [\n",
    "    [175, 180, 165],\n",
    "    [235, 130, 145]\n",
    "    ]\n",
    "\n",
    "num_CD = len(C_kj) # or len(C_ik[0]) "
   ]
  },
  {
   "cell_type": "code",
   "execution_count": 12,
   "id": "ad99fb83",
   "metadata": {},
   "outputs": [],
   "source": [
    "# Create the mip solver with the SCIP.\n",
    "solverII = pywraplp.Solver.CreateSolver('SCIP')"
   ]
  },
  {
   "cell_type": "code",
   "execution_count": 13,
   "id": "687fdb5b",
   "metadata": {},
   "outputs": [
    {
     "name": "stdout",
     "output_type": "stream",
     "text": [
      "Number of variables = 10\n"
     ]
    }
   ],
   "source": [
    "# Declare our variables for each segment.\n",
    "# When defining the range of the variables, I have already taken into account the non-negativity constraint.\n",
    "x = {}   # arcs that go from Plant to CD\n",
    "y = {}   # arcs that go from CD to region\n",
    "for i in range(num_plants):\n",
    "    for k in range(num_CD):\n",
    "        x[i,k] = solverII.NumVar(0, solverII.infinity(), \"\")\n",
    "for k in range(num_CD):\n",
    "    for j in range(num_regions):\n",
    "        y[k,j] = solverII.NumVar(0, solverII.infinity(), \"\")\n",
    "\n",
    "print('Number of variables =', solverII.NumVariables())"
   ]
  },
  {
   "cell_type": "code",
   "execution_count": 14,
   "id": "00d2bb53",
   "metadata": {},
   "outputs": [
    {
     "name": "stdout",
     "output_type": "stream",
     "text": [
      "Number of constraints = 7\n"
     ]
    }
   ],
   "source": [
    "#Supply limit \n",
    "for i in range(num_plants):\n",
    "    solverII.Add(solverII.Sum([x[i,k] for k in range(num_CD)]) <= S[i])\n",
    "    \n",
    "# Demand requirement\n",
    "for j in range(num_regions):\n",
    "    solverII.Add(solverII.Sum([y[k,j] for k in range(num_CD)]) >= D[j])\n",
    "\n",
    "# Conservation of flow\n",
    "for k in range(num_CD):\n",
    "    solverII.Add(solverII.Sum([x[i, k] for i in range(num_plants)]) -\n",
    "                 solverII.Sum([y[k, j] for j in range(num_regions)]) ==0)\n",
    "\n",
    "print('Number of constraints =', solverII.NumConstraints())"
   ]
  },
  {
   "cell_type": "code",
   "execution_count": 15,
   "id": "e2e530b5",
   "metadata": {},
   "outputs": [],
   "source": [
    "# Define the objective function\n",
    "objective = solverII.Minimize(\n",
    "    solverII.Sum([C_ik[i][k] * x[i, k] for i in range(num_plants) for k in range(num_CD)]) +\n",
    "    solverII.Sum([C_kj[k][j] * y[k, j] for k in range(num_CD) for j in range(num_regions)])\n",
    ")"
   ]
  },
  {
   "cell_type": "code",
   "execution_count": 16,
   "id": "783ab50f",
   "metadata": {},
   "outputs": [],
   "source": [
    "status = solverII.Solve()"
   ]
  },
  {
   "cell_type": "code",
   "execution_count": 17,
   "id": "f3cae6c6",
   "metadata": {},
   "outputs": [
    {
     "name": "stdout",
     "output_type": "stream",
     "text": [
      "Total cost = 69200.00000000001\n",
      " per week\n",
      "Plant 0 sends 0.0 tons to Center 0\n",
      "Plant 0 sends 75.0 tons to Center 1\n",
      "Plant 1 sends 25.0 tons to Center 0\n",
      "Plant 1 sends 100.0 tons to Center 1\n",
      "CD 0 supplies 25.0 tons to Region 0\n",
      "CD 0 supplies 0.0 tons to Region 1\n",
      "CD 0 supplies 0.0 tons to Region 2\n",
      "CD 1 supplies 0.0 tons to Region 0\n",
      "CD 1 supplies 95.0 tons to Region 1\n",
      "CD 1 supplies 80.0 tons to Region 2\n",
      "\n",
      "Advanced usage:\n",
      "Problem solved in 125.000000 milliseconds\n",
      "Problem solved in 8 iterations\n"
     ]
    }
   ],
   "source": [
    "if status == pywraplp.Solver.OPTIMAL or status == pywraplp.Solver.FEASIBLE:\n",
    "    print(f'Total cost = {solverII.Objective().Value()}\\n per week')\n",
    "    for i in range(num_plants):\n",
    "        for k in range(num_CD):\n",
    "            print(f'Plant {i} sends ' +\n",
    "                  f'{x[i,k].solution_value()} tons '+\n",
    "                 f'to Center {k}')\n",
    "            \n",
    "    for k in range(num_CD):\n",
    "        for j in range(num_regions):\n",
    "            print(f'CD {k} supplies ' +\n",
    "                  f'{y[k,j].solution_value()} tons '+\n",
    "                 f'to Region {j}')\n",
    "else:\n",
    "    print('No solution found.')\n",
    "print('\\nAdvanced usage:')\n",
    "print('Problem solved in %f milliseconds' % solverII.wall_time())\n",
    "print('Problem solved in %d iterations' % solverII.iterations())\n",
    "\n"
   ]
  },
  {
   "cell_type": "code",
   "execution_count": null,
   "id": "be4a2a94",
   "metadata": {},
   "outputs": [],
   "source": []
  }
 ],
 "metadata": {
  "kernelspec": {
   "display_name": "Python 3 (ipykernel)",
   "language": "python",
   "name": "python3"
  },
  "language_info": {
   "codemirror_mode": {
    "name": "ipython",
    "version": 3
   },
   "file_extension": ".py",
   "mimetype": "text/x-python",
   "name": "python",
   "nbconvert_exporter": "python",
   "pygments_lexer": "ipython3",
   "version": "3.10.4"
  }
 },
 "nbformat": 4,
 "nbformat_minor": 5
}
