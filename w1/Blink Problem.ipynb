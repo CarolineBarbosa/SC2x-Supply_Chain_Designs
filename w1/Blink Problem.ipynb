{
 "cells": [
  {
   "cell_type": "markdown",
   "id": "1813d989",
   "metadata": {},
   "source": [
    "# Blink Problem \n",
    "Please refer to the material of week 1 of course for more details about this problem.\n",
    "Blink has 2 facilities that supplies materials to three different regions.\n",
    "\n",
    "## Problem Objective\n",
    "How much sand should SandyCo ship from each plant to each region\n",
    "each week to meet demand at the lowest planned distribution costs?\n",
    "\n",
    "## Input Data\n"
   ]
  },
  {
   "cell_type": "code",
   "execution_count": 1,
   "id": "b164d314",
   "metadata": {},
   "outputs": [],
   "source": [
    "\n",
    "D = [2500, 4350, 3296]    # quantity demanded at region\n",
    "distance = [\n",
    "        [105, 256, 86],\n",
    "        [240, 136, 198]\n",
    "    ]           # costs from i to j\n",
    "c = 0.12"
   ]
  },
  {
   "cell_type": "code",
   "execution_count": 2,
   "id": "7c594fb0",
   "metadata": {},
   "outputs": [],
   "source": [
    "\n",
    "# defining number of plants and customer's region\n",
    "num_plants = len(distance)\n",
    "num_regions = len(D)"
   ]
  },
  {
   "cell_type": "code",
   "execution_count": 3,
   "id": "86477ed7",
   "metadata": {},
   "outputs": [],
   "source": [
    "from ortools.linear_solver import pywraplp"
   ]
  },
  {
   "cell_type": "code",
   "execution_count": 4,
   "id": "13791877",
   "metadata": {},
   "outputs": [
    {
     "name": "stdout",
     "output_type": "stream",
     "text": [
      "Number of variables = 6\n",
      "Number of constraints = 3\n",
      "Total cost = 136506.72 per month \n",
      " \n",
      "Plant 0 supplies 2500.0 Units to Region 0\n",
      "Plant 0 supplies 0.0 Units to Region 1\n",
      "Plant 0 supplies 3296.0 Units to Region 2\n",
      "Plant 1 supplies 0.0 Units to Region 0\n",
      "Plant 1 supplies 4350.0 Units to Region 1\n",
      "Plant 1 supplies 0.0 Units to Region 2\n",
      "\n",
      "Advanced usage:\n",
      "Problem solved in 7.000000 milliseconds\n",
      "Problem solved in 0 iterations\n"
     ]
    }
   ],
   "source": [
    "# Create the mip solver with the SCIP backend.\n",
    "solver = pywraplp.Solver.CreateSolver('SCIP')\n",
    "\n",
    "\n",
    "# Declare an Matrix to hold our variables for each x_ij.\n",
    "# When defining the range of the variable, I have already taken into account the constraint x>= 0.\n",
    "x = {}\n",
    "for i in range(num_plants):\n",
    "    for j in range(num_regions):\n",
    "        x[i,j] = solver.NumVar(0, solver.infinity(), \"\")\n",
    "\n",
    "print('Number of variables =', solver.NumVariables())\n",
    "\n",
    "# Demand requirement\n",
    "## ex. x11 + x21 >= D1\n",
    "for j in range(num_regions):\n",
    "    solver.Add(solver.Sum([x[i,j] for i in range(num_plants)]) >= D[j])\n",
    "\n",
    "print('Number of constraints =', solver.NumConstraints())\n",
    "\n",
    "## sum of the cost per ton times the total volume\n",
    "## min [c11*x11 + c12*c12 + ... ]\n",
    "solver.Minimize(solver.Sum([c*distance[i][j] * x[i,j] for i in range(num_plants) for j in range(num_regions)]))\n",
    "\n",
    "status = solver.Solve()\n",
    "\n",
    "if status == pywraplp.Solver.OPTIMAL or status == pywraplp.Solver.FEASIBLE:\n",
    "    print(f'Total cost = {solver.Objective().Value()} per month \\n ')\n",
    "    for i in range(num_plants):\n",
    "        for j in range(num_regions):\n",
    "            # Test if x[i,j] is 1 (with tolerance for floating point arithmetic).\n",
    "            print(f'Plant {i} supplies ' +\n",
    "                  f'{x[i,j].solution_value()} Units '+\n",
    "                 f'to Region {j}')\n",
    "else:\n",
    "    print('No solution found.')\n",
    "print('\\nAdvanced usage:')\n",
    "print('Problem solved in %f milliseconds' % solver.wall_time())\n",
    "print('Problem solved in %d iterations' % solver.iterations())\n",
    "\n",
    "\n"
   ]
  },
  {
   "cell_type": "markdown",
   "id": "b4a7df5b",
   "metadata": {},
   "source": [
    "# part 2 "
   ]
  },
  {
   "cell_type": "code",
   "execution_count": 5,
   "id": "42f9a12a",
   "metadata": {},
   "outputs": [
    {
     "name": "stdout",
     "output_type": "stream",
     "text": [
      "Number of variables = 6\n",
      "Number of constraints = 3\n"
     ]
    }
   ],
   "source": [
    "p = 45\n",
    "# Create the mip solverII with the SCIP backend.\n",
    "solverII = pywraplp.Solver.CreateSolver('SCIP')\n",
    "\n",
    "\n",
    "# Declare an Matrix to hold our variables for each x_ij.\n",
    "# When defining the range of the variable, I have already taken into account the constraint x>= 0.\n",
    "x = {}\n",
    "for i in range(num_plants):\n",
    "    for j in range(num_regions):\n",
    "        x[i,j] = solverII.NumVar(0, solverII.infinity(), \"\")\n",
    "\n",
    "print('Number of variables =', solverII.NumVariables())\n",
    "\n",
    "# Demand requirement\n",
    "## now making the constraint equals to the demand\n",
    "for j in range(num_regions):\n",
    "    solverII.Add(solverII.Sum([x[i,j] for i in range(num_plants)]) == D[j])\n",
    "\n",
    "print('Number of constraints =', solverII.NumConstraints())"
   ]
  },
  {
   "cell_type": "code",
   "execution_count": 6,
   "id": "9c850cc5",
   "metadata": {},
   "outputs": [],
   "source": [
    "transportation_cost = solverII.Sum([c * distance[i][j] * x[i,j] for i in range(num_plants) for j in range(num_regions)])\n",
    "revenue = solverII.Sum([p * x[i,j] for i in range(num_plants) for j in range(num_regions)])\n",
    "solverII.Maximize(revenue - transportation_cost)"
   ]
  },
  {
   "cell_type": "code",
   "execution_count": 7,
   "id": "0fcd602b",
   "metadata": {},
   "outputs": [],
   "source": [
    "statusII = solverII.Solve()"
   ]
  },
  {
   "cell_type": "code",
   "execution_count": 8,
   "id": "7f69e4f2",
   "metadata": {},
   "outputs": [
    {
     "data": {
      "text/plain": [
       "1"
      ]
     },
     "execution_count": 8,
     "metadata": {},
     "output_type": "execute_result"
    }
   ],
   "source": [
    "pywraplp.Solver.FEASIBLE"
   ]
  },
  {
   "cell_type": "code",
   "execution_count": 9,
   "id": "961dc75c",
   "metadata": {},
   "outputs": [
    {
     "name": "stdout",
     "output_type": "stream",
     "text": [
      " Generated by MPModelProtoExporter\n",
      "   Name             : \n",
      "   Format           : Free\n",
      "   Constraints      : 3\n",
      "   Variables        : 6\n",
      "     Binary         : 0\n",
      "     Integer        : 0\n",
      "     Continuous     : 6\n",
      "Maximize\n",
      " Obj: +32.4 auto_v_000000000 +14.28 auto_v_000000001 +34.68 auto_v_000000002 +16.2 auto_v_000000003 +28.68 auto_v_000000004 +21.24 auto_v_000000005 \n",
      "Subject to\n",
      " auto_c_000000000: +1 auto_v_000000000 +1 auto_v_000000003  = 2500\n",
      " auto_c_000000001: +1 auto_v_000000001 +1 auto_v_000000004  = 4350\n",
      " auto_c_000000002: +1 auto_v_000000002 +1 auto_v_000000005  = 3296\n",
      "Bounds\n",
      " 0 <= auto_v_000000000\n",
      " 0 <= auto_v_000000001\n",
      " 0 <= auto_v_000000002\n",
      " 0 <= auto_v_000000003\n",
      " 0 <= auto_v_000000004\n",
      " 0 <= auto_v_000000005\n",
      "End\n",
      "\n"
     ]
    }
   ],
   "source": [
    "#print the mathematical model \n",
    "print(solverII.ExportModelAsLpFormat(False).replace('\\\\', '').replace(',_', ','), sep='\\n')"
   ]
  },
  {
   "cell_type": "code",
   "execution_count": 10,
   "id": "30dcd18b",
   "metadata": {},
   "outputs": [
    {
     "name": "stdout",
     "output_type": "stream",
     "text": [
      "Total cost = 320063.27999999997 per month \n",
      " \n",
      "Plant 0 supplies 2500.0 Units to Region 0\n",
      "Plant 0 supplies 0.0 Units to Region 1\n",
      "Plant 0 supplies 3296.0 Units to Region 2\n",
      "Plant 1 supplies 0.0 Units to Region 0\n",
      "Plant 1 supplies 4350.0 Units to Region 1\n",
      "Plant 1 supplies 0.0 Units to Region 2\n",
      "\n",
      "Advanced usage:\n",
      "Problem solved in 105.000000 milliseconds\n",
      "Problem solved in 0 iterations\n"
     ]
    }
   ],
   "source": [
    "if statusII == pywraplp.Solver.OPTIMAL or status == pywraplp.Solver.FEASIBLE:\n",
    "    print(f'Total cost = {solverII.Objective().Value()} per month \\n ')\n",
    "    for i in range(num_plants):\n",
    "        for j in range(num_regions):\n",
    "            # Test if x[i,j] is 1 (with tolerance for floating point arithmetic).\n",
    "            print(f'Plant {i} supplies ' +\n",
    "                  f'{x[i,j].solution_value()} Units '+\n",
    "                 f'to Region {j}')\n",
    "else:\n",
    "    print('No solution found.')\n",
    "print('\\nAdvanced usage:')\n",
    "print('Problem solved in %f milliseconds' % solverII.wall_time())\n",
    "print('Problem solved in %d iterations' % solverII.iterations())"
   ]
  },
  {
   "cell_type": "markdown",
   "id": "bc2635db",
   "metadata": {},
   "source": [
    "## part 3"
   ]
  },
  {
   "cell_type": "code",
   "execution_count": 11,
   "id": "e7c20dfc",
   "metadata": {},
   "outputs": [],
   "source": [
    "S = [13000, 3500 ]"
   ]
  },
  {
   "cell_type": "code",
   "execution_count": 12,
   "id": "1df65e6c",
   "metadata": {},
   "outputs": [
    {
     "name": "stdout",
     "output_type": "stream",
     "text": [
      "Number of variables = 6\n",
      "Number of constraints = 5\n",
      "Total cost = 148746.72 per month \n",
      " \n",
      "Plant 0 supplies 2500.0 Units to Region 0\n",
      "Plant 0 supplies 850.0 Units to Region 1\n",
      "Plant 0 supplies 3296.0 Units to Region 2\n",
      "Plant 1 supplies 0.0 Units to Region 0\n",
      "Plant 1 supplies 3500.0 Units to Region 1\n",
      "Plant 1 supplies 0.0 Units to Region 2\n",
      "\n",
      "Advanced usage:\n",
      "Problem solved in 8.000000 milliseconds\n",
      "Problem solved in 0 iterations\n"
     ]
    }
   ],
   "source": [
    "# Create the mip solverIII with the SCIP backend.\n",
    "solverIII = pywraplp.Solver.CreateSolver('SCIP')\n",
    "\n",
    "\n",
    "# Declare an Matrix to hold our variables for each x_ij.\n",
    "# When defining the range of the variable, I have already taken into account the constraint x>= 0.\n",
    "x = {}\n",
    "for i in range(num_plants):\n",
    "    for j in range(num_regions):\n",
    "        x[i,j] = solverIII.NumVar(0, solverIII.infinity(), \"\")\n",
    "\n",
    "print('Number of variables =', solverIII.NumVariables())\n",
    "\n",
    "## new constraint of Supply limit \n",
    "for i in range(num_plants):\n",
    "    solverIII.Add(solverIII.Sum([x[i,k] for k in range(num_plants)]) <= S[i])\n",
    "    \n",
    "# Demand requirement\n",
    "## ex. x11 + x21 >= D1\n",
    "for j in range(num_regions):\n",
    "    solverIII.Add(solverIII.Sum([x[i,j] for i in range(num_plants)]) >= D[j])\n",
    "\n",
    "print('Number of constraints =', solverIII.NumConstraints())\n",
    "\n",
    "## sum of the cost per ton times the total volume\n",
    "## min [c11*x11 + c12*c12 + ... ]\n",
    "solverIII.Minimize(solverIII.Sum([c*distance[i][j] * x[i,j] for i in range(num_plants) for j in range(num_regions)]))\n",
    "\n",
    "statusIII = solverIII.Solve()\n",
    "\n",
    "if statusIII == pywraplp.Solver.OPTIMAL or status == pywraplp.Solver.FEASIBLE:\n",
    "    print(f'Total cost = {solverIII.Objective().Value()} per month \\n ')\n",
    "    for i in range(num_plants):\n",
    "        for j in range(num_regions):\n",
    "            # Test if x[i,j] is 1 (with tolerance for floating point arithmetic).\n",
    "            print(f'Plant {i} supplies ' +\n",
    "                  f'{x[i,j].solution_value()} Units '+\n",
    "                 f'to Region {j}')\n",
    "else:\n",
    "    print('No solution found.')\n",
    "print('\\nAdvanced usage:')\n",
    "print('Problem solved in %f milliseconds' % solverIII.wall_time())\n",
    "print('Problem solved in %d iterations' % solverIII.iterations())\n",
    "\n",
    "\n"
   ]
  },
  {
   "cell_type": "markdown",
   "id": "47b7cb85",
   "metadata": {},
   "source": [
    "# Part4"
   ]
  },
  {
   "cell_type": "code",
   "execution_count": 13,
   "id": "affd507d",
   "metadata": {},
   "outputs": [
    {
     "name": "stdout",
     "output_type": "stream",
     "text": [
      "Number of variables = 5\n",
      "Number of constraints = 6\n",
      "Total cost = 115872.32 per month \n",
      "\n",
      "Plant 0 sends 6646.0 tons to Center 0\n",
      "Plant 1 sends 3500.0 tons to Center 0\n",
      "CD 0 supplies 2500.0 tons to Region 0\n",
      "CD 0 supplies 4350.0 tons to Region 1\n",
      "CD 0 supplies 3296.0 tons to Region 2\n",
      "\n",
      "Advanced usage:\n",
      "Problem solved in 179.000000 milliseconds\n",
      "Problem solved in 0 iterations\n"
     ]
    }
   ],
   "source": [
    "c_inbound = .04\n",
    "c_outbound = 0.08\n",
    "\n",
    "distance_inbound = [[190] , [150]]\n",
    "distance_outbound = [15, 59, 79]\n",
    "num_dc = len(distance_inbound[0])\n",
    "\n",
    "len(distance_inbound)\n",
    "\n",
    "# Create the mip solverIV with the SCIP backend.\n",
    "solverIV = pywraplp.Solver.CreateSolver('SCIP')\n",
    "\n",
    "\n",
    "# Declare an Matrix to hold our variables for each x_ij.\n",
    "# When defining the range of the variable, I have already taken into account the constraint x>= 0.\n",
    "x = {}\n",
    "for i in range(num_plants):\n",
    "    for k in range(num_dc):\n",
    "        x[i,k] = solverIV.NumVar(0, solverIV.infinity(), \"\")\n",
    "y = {}\n",
    "for k in range(num_dc):\n",
    "    for j in range(num_regions):\n",
    "        y[k,j] = solverIV.NumVar(0, solverIV.infinity(), \"\")\n",
    "\n",
    "print('Number of variables =', solverIV.NumVariables())\n",
    "\n",
    "## new constraint of Supply limit \n",
    "for i in range(num_plants):\n",
    "    for k in range(num_dc):\n",
    "        solverIV.Add( x[i, k] <= S[i])\n",
    "    \n",
    "# Demand requirement\n",
    "for k in range(num_dc):\n",
    "    for j in range(num_regions):\n",
    "        solverIV.Add(y[k, j] >= D[j])\n",
    "    \n",
    "inbound_flow = solverIV.Sum([x[i, k] for i in range(num_plants) for k in range(num_dc)])\n",
    "outbound_flow = solverIV.Sum([y[k, j] for k in range(num_dc) for j in range(num_regions)])\n",
    "solverIV.Add(inbound_flow == outbound_flow)\n",
    "\n",
    "    \n",
    "    \n",
    "print('Number of constraints =', solverIV.NumConstraints())\n",
    "\n",
    "## sum of the cost per ton times the total volume\n",
    "cost_inbound = solverIV.Sum([c_inbound * distance_inbound[i][k] * x[i, k] for i in range(num_plants) for k in range(num_dc)])\n",
    "cost_outbound = solverIV.Sum([c_outbound*distance_outbound[j] * y[k,j] for k in range(num_dc) for j in range(num_regions)])\n",
    "solverIV.Minimize(cost_inbound + cost_outbound )\n",
    "\n",
    "statusIV = solverIV.Solve()\n",
    "\n",
    "if statusIV == pywraplp.Solver.OPTIMAL or status == pywraplp.Solver.FEASIBLE:\n",
    "    print(f'Total cost = {solverIV.Objective().Value()} per month \\n')\n",
    "    for i in range(num_plants):\n",
    "        for k in range(num_dc):\n",
    "            print(f'Plant {i} sends ' +\n",
    "                  f'{x[i,k].solution_value()} tons '+\n",
    "                 f'to Center {k}')\n",
    "            \n",
    "    for k in range(num_dc):\n",
    "        for j in range(num_regions):\n",
    "            print(f'CD {k} supplies ' +\n",
    "                  f'{y[k,j].solution_value()} tons '+\n",
    "                 f'to Region {j}')\n",
    "else:\n",
    "    print('No solution found.')\n",
    "print('\\nAdvanced usage:')\n",
    "print('Problem solved in %f milliseconds' % solverII.wall_time())\n",
    "print('Problem solved in %d iterations' % solverII.iterations())"
   ]
  },
  {
   "cell_type": "markdown",
   "id": "d7307fe4",
   "metadata": {},
   "source": [
    "## Part 5"
   ]
  },
  {
   "cell_type": "code",
   "execution_count": 40,
   "id": "5b4702e8",
   "metadata": {},
   "outputs": [
    {
     "name": "stdout",
     "output_type": "stream",
     "text": [
      "Number of variables = 12\n"
     ]
    }
   ],
   "source": [
    "fixed_cost = [11500, 15500]\n",
    "\n",
    "distance_inbound = [[190, 15] , [150, 36]]\n",
    "distance_outbound = [[15, 59, 79],\n",
    "                    [135, 45, 129]]\n",
    "num_dc = len(distance_inbound[0])\n",
    "\n",
    "len(distance_inbound)\n",
    "\n",
    "# Create the mip solverV with the SCIP backend.\n",
    "solverV = pywraplp.Solver.CreateSolver('SCIP')\n",
    "\n",
    "\n",
    "# Declare an Matrix to hold our variables for each x_ij.\n",
    "# When defining the range of the variable, I have already taken into account the constraint x>= 0.\n",
    "x = {}\n",
    "for i in range(num_plants):\n",
    "    for k in range(num_dc):\n",
    "        x[i,k] = solverV.NumVar(0, solverV.infinity(), \"\")\n",
    "y = {}\n",
    "for k in range(num_dc):\n",
    "    for j in range(num_regions):\n",
    "        y[k,j] = solverV.NumVar(0, solverV.infinity(), \"\")\n",
    "\n",
    "z={}\n",
    "for k in range(num_dc):\n",
    "    z[k] = solverV.BoolVar(\"\")\n",
    "\n",
    "print('Number of variables =', solverV.NumVariables())"
   ]
  },
  {
   "cell_type": "code",
   "execution_count": 41,
   "id": "24d12b4a",
   "metadata": {},
   "outputs": [],
   "source": [
    "M = sum(D) # M is a very big number in this case equals to the total demand"
   ]
  },
  {
   "cell_type": "code",
   "execution_count": 42,
   "id": "4be03143",
   "metadata": {},
   "outputs": [
    {
     "name": "stdout",
     "output_type": "stream",
     "text": [
      "Number of constraints = 9\n"
     ]
    }
   ],
   "source": [
    "## new constraint of Supply limit \n",
    "for i in range(num_plants):\n",
    "    solverV.Add(solverV.Sum([x[i, k] for k in range(num_dc)])<= S[i])\n",
    "    \n",
    "# Demand requirement\n",
    "\n",
    "for j in range(num_regions):\n",
    "    solverV.Add(solverV.Sum([y[k, j] for k in range(num_dc)])>= D[j])\n",
    "        \n",
    "# conservation of flow\n",
    "for k in range(num_dc):\n",
    "    inbound_flow = solverV.Sum([x[i, k] for i in range(num_plants)])\n",
    "    outbound_flow = solverV.Sum([y[k, j] for j in range(num_regions)])\n",
    "    solverV.Add(inbound_flow == outbound_flow)\n",
    "\n",
    "# #max number opf cds open\n",
    "# solverV.Add(solverV.Sum([z[k] for k in range(num_dc)]) == 1)\n",
    "\n",
    "#linking constraint\n",
    "for k in range(num_dc):\n",
    "    solverV.Add(solverV.Sum([x[i,k] for i in range(num_plants)])  <= 999999 *z[k])\n",
    "\n",
    "\n",
    "print('Number of constraints =', solverV.NumConstraints())"
   ]
  },
  {
   "cell_type": "code",
   "execution_count": 43,
   "id": "d734eb78",
   "metadata": {},
   "outputs": [
    {
     "name": "stdout",
     "output_type": "stream",
     "text": [
      "Total cost = 98262.31999999999 per month \n",
      "\n",
      "Plant 0 sends 0.0 tons to Center 0\n",
      "Plant 0 sends 10146.0 tons to Center 1\n",
      "Plant 1 sends 0.0 tons to Center 0\n",
      "Plant 1 sends 0.0 tons to Center 1\n",
      "CD 0 supplies 0.0 tons to Region 0\n",
      "CD 0 supplies 0.0 tons to Region 1\n",
      "CD 0 supplies 0.0 tons to Region 2\n",
      "CD 1 supplies 2500.0000000000005 tons to Region 0\n",
      "CD 1 supplies 4349.999999999999 tons to Region 1\n",
      "CD 1 supplies 3295.999999999999 tons to Region 2\n",
      "\n",
      "Advanced usage:\n",
      "Problem solved in 430756.000000 milliseconds\n",
      "Problem solved in 0 iterations\n"
     ]
    }
   ],
   "source": [
    "## sum of the cost per ton times the total volume\n",
    "cost_inbound = solverV.Sum([c_inbound * distance_inbound[i][k] * x[i, k] for i in range(num_plants) for k in range(num_dc)])\n",
    "cost_outbound = solverV.Sum([c_outbound*distance_outbound[k][j] * y[k,j] for k in range(num_dc) for j in range(num_regions)])\n",
    "fixed_cost_O = solverV.Sum([fixed_cost[k] * z[k] for k in range(num_dc) ])\n",
    "solverV.Minimize(cost_inbound + cost_outbound + fixed_cost_O)\n",
    "\n",
    "statusV = solverV.Solve()\n",
    "\n",
    "if statusV == pywraplp.Solver.OPTIMAL or status == pywraplp.Solver.FEASIBLE:\n",
    "    print(f'Total cost = {solverV.Objective().Value()} per month \\n')\n",
    "    for i in range(num_plants):\n",
    "        for k in range(num_dc):\n",
    "            print(f'Plant {i} sends ' +\n",
    "                  f'{x[i,k].solution_value()} tons '+\n",
    "                 f'to Center {k}')\n",
    "            \n",
    "    for k in range(num_dc):\n",
    "        for j in range(num_regions):\n",
    "            print(f'CD {k} supplies ' +\n",
    "                  f'{y[k,j].solution_value()} tons '+\n",
    "                 f'to Region {j}')\n",
    "else:\n",
    "    print('No solution found.')\n",
    "print('\\nAdvanced usage:')\n",
    "print('Problem solved in %f milliseconds' % solverII.wall_time())\n",
    "print('Problem solved in %d iterations' % solverII.iterations())"
   ]
  },
  {
   "cell_type": "code",
   "execution_count": 39,
   "id": "32ae8be6",
   "metadata": {},
   "outputs": [
    {
     "name": "stdout",
     "output_type": "stream",
     "text": [
      " Generated by MPModelProtoExporter\n",
      "   Name             : \n",
      "   Format           : Free\n",
      "   Constraints      : 10\n",
      "   Variables        : 12\n",
      "     Binary         : 2\n",
      "     Integer        : 0\n",
      "     Continuous     : 10\n",
      "Minimize\n",
      " Obj: +7.6 auto_v_000000000 +0.6 auto_v_000000001 +6 auto_v_000000002 +1.44 auto_v_000000003 +1.2 auto_v_000000004 +4.72 auto_v_000000005 +6.32 auto_v_000000006 +10.8 auto_v_000000007 +3.6 auto_v_000000008 +10.32 auto_v_000000009 +11500 auto_v_000000010 +15500 auto_v_000000011 \n",
      "Subject to\n",
      " auto_c_000000000: +1 auto_v_000000000 +1 auto_v_000000001  <= 13000\n",
      " auto_c_000000001: +1 auto_v_000000002 +1 auto_v_000000003  <= 3500\n",
      " auto_c_000000002: +1 auto_v_000000004 +1 auto_v_000000007  >= 2500\n",
      " auto_c_000000003: +1 auto_v_000000005 +1 auto_v_000000008  >= 4350\n",
      " auto_c_000000004: +1 auto_v_000000006 +1 auto_v_000000009  >= 3296\n",
      " auto_c_000000005: +1 auto_v_000000000 +1 auto_v_000000002 -1 auto_v_000000004 -1 auto_v_000000005 -1 auto_v_000000006  = 0\n",
      " auto_c_000000006: +1 auto_v_000000001 +1 auto_v_000000003 -1 auto_v_000000007 -1 auto_v_000000008 -1 auto_v_000000009  = 0\n",
      " auto_c_000000007: +1 auto_v_000000010 +1 auto_v_000000011  = 1\n",
      " auto_c_000000008: +1 auto_v_000000000 +1 auto_v_000000002 -9999 auto_v_000000010  <= 0\n",
      " auto_c_000000009: +1 auto_v_000000001 +1 auto_v_000000003 -9999 auto_v_000000011  <= 0\n",
      "Bounds\n",
      " 0 <= auto_v_000000000\n",
      " 0 <= auto_v_000000001\n",
      " 0 <= auto_v_000000002\n",
      " 0 <= auto_v_000000003\n",
      " 0 <= auto_v_000000004\n",
      " 0 <= auto_v_000000005\n",
      " 0 <= auto_v_000000006\n",
      " 0 <= auto_v_000000007\n",
      " 0 <= auto_v_000000008\n",
      " 0 <= auto_v_000000009\n",
      " 0 <= auto_v_000000010 <= 1\n",
      " 0 <= auto_v_000000011 <= 1\n",
      "Binaries\n",
      " auto_v_000000010\n",
      " auto_v_000000011\n",
      "End\n",
      "\n"
     ]
    }
   ],
   "source": [
    "#print the mathematical model \n",
    "print(solverV.ExportModelAsLpFormat(False).replace('\\\\', '').replace(',_', ','), sep='\\n')"
   ]
  },
  {
   "cell_type": "code",
   "execution_count": null,
   "id": "eb6b952d",
   "metadata": {},
   "outputs": [],
   "source": []
  },
  {
   "cell_type": "code",
   "execution_count": null,
   "id": "5aa2545c",
   "metadata": {},
   "outputs": [],
   "source": []
  }
 ],
 "metadata": {
  "kernelspec": {
   "display_name": "Python 3 (ipykernel)",
   "language": "python",
   "name": "python3"
  },
  "language_info": {
   "codemirror_mode": {
    "name": "ipython",
    "version": 3
   },
   "file_extension": ".py",
   "mimetype": "text/x-python",
   "name": "python",
   "nbconvert_exporter": "python",
   "pygments_lexer": "ipython3",
   "version": "3.10.4"
  }
 },
 "nbformat": 4,
 "nbformat_minor": 5
}
