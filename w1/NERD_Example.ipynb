{
 "cells": [
  {
   "cell_type": "code",
   "execution_count": 1,
   "id": "8fb6c9e2",
   "metadata": {},
   "outputs": [],
   "source": [
    "import pandas as pd\n",
    "from ortools.linear_solver import pywraplp"
   ]
  },
  {
   "cell_type": "markdown",
   "id": "c263f3ce",
   "metadata": {},
   "source": [
    "# New England Beer Distributors (NERD 2)\n",
    "Please refer to the material of week 1 of course for more details about this problem.\n",
    "## Problem Objective\n",
    "Where should NERD set up its distribution Centers to serve 3 cities in order to minimiza transportation costs?\n",
    "\n",
    "## Input Data"
   ]
  },
  {
   "cell_type": "code",
   "execution_count": 2,
   "id": "eecf5a8b",
   "metadata": {},
   "outputs": [
    {
     "name": "stdout",
     "output_type": "stream",
     "text": [
      "    id         name  demand\n",
      "0   BO       Boston     425\n",
      "1   BR  Brattleboro      12\n",
      "2   CO      Concord      43\n",
      "3   HA     Hartford     125\n",
      "4   MN   Manchester     110\n",
      "5   NA       Nashua      86\n",
      "6   NH    New_Haven     129\n",
      "7   NL   New_London      28\n",
      "8   PO   Portsmouth      66\n",
      "9   PR   Providence     320\n",
      "10  SP  Springfield     220\n",
      "11  WO    Worcester     182\n"
     ]
    }
   ],
   "source": [
    "cities = [\"BO\", \"BR\", \"CO\", \"HA\", \"MN\", \"NA\", \"NH\", \"NL\", \"PO\", \"PR\", \"SP\", \"WO\"]\n",
    "cities_names = [\"Boston\", \"Brattleboro\", \"Concord\", \"Hartford\", \"Manchester\", \n",
    "               \"Nashua\", \"New_Haven\", \"New_London\", \"Portsmouth\", \"Providence\", \"Springfield\", \"Worcester\"]\n",
    "cities_demands = [425, 12, 43, 125, 110, 86, 129, 28, 66, 320, 220, 182]\n",
    "\n",
    "# Creating a dataframe of cities with their corresponding names and demands.\n",
    "df_cities = pd.DataFrame({\n",
    "    \"id\": cities,\n",
    "    \"name\": cities_names,\n",
    "    \"demand\": cities_demands\n",
    "})\n",
    "print(df_cities)\n",
    "\n",
    "candidates = [\"BO\", \"NA\", \"PR\", \"SP\", \"WO\"]\n",
    "\n",
    "# Defining a distance matrix representing distances between cities (lines according to the vector cities) \n",
    "#and candidates (columns according to the vector of candidates)\n",
    "distance_matrix = [[0, 37, 42, 82, 34],\n",
    "[93, 65, 106, 59, 68],\n",
    "[69, 33, 105, 101, 72],\n",
    "[98, 103, 73, 27, 66],\n",
    "[55, 20, 92, 93, 60],\n",
    "[37, 0, 72, 79, 41],\n",
    "[128, 137, 94, 63, 98],\n",
    "[95, 113, 57, 57, 71],\n",
    "[62, 48, 104, 127, 85],\n",
    "[42, 72, 0, 68, 38],\n",
    "[82, 79, 68, 0, 47],\n",
    "[34, 41, 38, 47, 0]\n",
    "]\n",
    "\n",
    "\n",
    "fi = 10000    # fixed cost\n",
    "cij = 1     #dolar per mile\n",
    "S = 2000    # Supply max used in excel example\n",
    "\n",
    "#defining total number of cities and candidates\n",
    "num_cities = len(cities)\n",
    "num_candidates = len(candidates)"
   ]
  },
  {
   "cell_type": "markdown",
   "id": "5cb42343",
   "metadata": {},
   "source": [
    "### Single Location Weber Problem "
   ]
  },
  {
   "cell_type": "code",
   "execution_count": 3,
   "id": "242e2f4e",
   "metadata": {},
   "outputs": [],
   "source": [
    "# Create a solver instance\n",
    "solver = pywraplp.Solver.CreateSolver('SCIP')"
   ]
  },
  {
   "cell_type": "code",
   "execution_count": 4,
   "id": "dfb424d4",
   "metadata": {},
   "outputs": [],
   "source": [
    "# Declare variables\n",
    "x = {}  # Variables for transportation between the arc candidates to cities. \n",
    "y = {}  # Variables to represent whether a candidate city is open or not (binary).\n",
    "\n",
    "for i in range(num_candidates):\n",
    "    for j in range(num_cities):\n",
    "        x[i,j] = solver.NumVar(0, solver.infinity(), \"\") # already implementing the non-negativity constraint\n",
    "    y[i] = solver.BoolVar(\"\")"
   ]
  },
  {
   "cell_type": "code",
   "execution_count": 5,
   "id": "a55a2980",
   "metadata": {},
   "outputs": [],
   "source": [
    "M = S # M is a very big number in this case equals to the total supply"
   ]
  },
  {
   "cell_type": "code",
   "execution_count": 6,
   "id": "3e129337",
   "metadata": {},
   "outputs": [
    {
     "name": "stdout",
     "output_type": "stream",
     "text": [
      "Number of constraints = 78\n"
     ]
    }
   ],
   "source": [
    "#Declare Constraints\n",
    "#Supply limit \n",
    "for i in range(num_candidates):\n",
    "    sum_value = 0\n",
    "    for j in range(num_cities):\n",
    "        sum_value += x[i,j]\n",
    "    solver.Add(sum_value <= S)\n",
    "    \n",
    "# Demand requirement\n",
    "for j in range(num_cities):\n",
    "    solver.Add(solver.Sum([x[i,j] for i in range(num_candidates)]) >= df_cities.demand[j])\n",
    "\n",
    "# Only one candidate city should be open.\n",
    "solver.Add(solver.Sum([y[i] for i in range(num_candidates)]) == 1)\n",
    "\n",
    "# linking constraints\n",
    "for i in range(num_candidates):\n",
    "    for j in range(num_cities):\n",
    "        solver.Add(x[i,j] - M*y[i]  <= 0 )\n",
    "\n",
    "print('Number of constraints =', solver.NumConstraints())"
   ]
  },
  {
   "cell_type": "code",
   "execution_count": 7,
   "id": "58db5143",
   "metadata": {},
   "outputs": [],
   "source": [
    "# Calculate the fixed cost if a DC is open at location i\n",
    "fixed_cost = solver.Sum([ fi * y[i]\n",
    "                            for i in range(num_candidates)])\n",
    "\n",
    "#Calculate transportation cost. Cost c_ij * distance in this example\n",
    "transportation_cost = solver.Sum([ x[i,j] * distance_matrix[j][i] * cij\n",
    "                            for i in range(num_candidates)\n",
    "                           for j in range(num_cities)])\n",
    "# Setting the objective function to minimize the total cost\n",
    "solver.Minimize( transportation_cost + fixed_cost)"
   ]
  },
  {
   "cell_type": "code",
   "execution_count": 8,
   "id": "f8ecb278",
   "metadata": {},
   "outputs": [],
   "source": [
    "# Solve the problem\n",
    "status = solver.Solve()"
   ]
  },
  {
   "cell_type": "code",
   "execution_count": 9,
   "id": "349f0c9f",
   "metadata": {},
   "outputs": [
    {
     "name": "stdout",
     "output_type": "stream",
     "text": [
      "Total cost = 89478.0 per week\n",
      "Open DC in WO\n",
      "\n",
      "Advanced usage:\n",
      "Problem solved in 147.000000 milliseconds\n",
      "Problem solved in 26 iterations\n"
     ]
    }
   ],
   "source": [
    "if status == pywraplp.Solver.OPTIMAL or status == pywraplp.Solver.FEASIBLE:\n",
    "    print(f'Total cost = {solver.Objective().Value()} per week')\n",
    "    for i in range(num_candidates):\n",
    "        if y[i].solution_value() > 0:\n",
    "            print(f'Open DC in {candidates[i]}' )  \n",
    "else:\n",
    "    print('No solution found.')\n",
    "print('\\nAdvanced usage:')\n",
    "print('Problem solved in %f milliseconds' % solver.wall_time())\n",
    "print('Problem solved in %d iterations' % solver.iterations())"
   ]
  },
  {
   "cell_type": "code",
   "execution_count": null,
   "id": "112edfc7",
   "metadata": {},
   "outputs": [],
   "source": []
  }
 ],
 "metadata": {
  "kernelspec": {
   "display_name": "Python 3 (ipykernel)",
   "language": "python",
   "name": "python3"
  },
  "language_info": {
   "codemirror_mode": {
    "name": "ipython",
    "version": 3
   },
   "file_extension": ".py",
   "mimetype": "text/x-python",
   "name": "python",
   "nbconvert_exporter": "python",
   "pygments_lexer": "ipython3",
   "version": "3.10.4"
  }
 },
 "nbformat": 4,
 "nbformat_minor": 5
}
