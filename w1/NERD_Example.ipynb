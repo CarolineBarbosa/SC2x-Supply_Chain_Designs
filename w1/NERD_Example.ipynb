{
 "cells": [
  {
   "cell_type": "code",
   "execution_count": 1,
   "id": "8fb6c9e2",
   "metadata": {},
   "outputs": [],
   "source": [
    "import pandas as pd\n",
    "from ortools.linear_solver import pywraplp"
   ]
  },
  {
   "cell_type": "markdown",
   "id": "c263f3ce",
   "metadata": {},
   "source": [
    "# New England Beer Distributors (NERD 2)\n",
    "Please refer to the material of week 1 of course for more details about this problem.\n",
    "## Problem Objective\n",
    "Where should NERD set up its distribution Centers to serve 3 cities in order to minimiza transportation costs?\n",
    "\n",
    "## Input Data"
   ]
  },
  {
   "cell_type": "code",
   "execution_count": 2,
   "id": "eecf5a8b",
   "metadata": {},
   "outputs": [
    {
     "name": "stdout",
     "output_type": "stream",
     "text": [
      "    id         name  demand\n",
      "0   BO       Boston     425\n",
      "1   BR  Brattleboro      12\n",
      "2   CO      Concord      43\n",
      "3   HA     Hartford     125\n",
      "4   MN   Manchester     110\n",
      "5   NA       Nashua      86\n",
      "6   NH    New_Haven     129\n",
      "7   NL   New_London      28\n",
      "8   PO   Portsmouth      66\n",
      "9   PR   Providence     320\n",
      "10  SP  Springfield     220\n",
      "11  WO    Worcester     182\n"
     ]
    }
   ],
   "source": [
    "cities = [\"BO\", \"BR\", \"CO\", \"HA\", \"MN\", \"NA\", \"NH\", \"NL\", \"PO\", \"PR\", \"SP\", \"WO\"]\n",
    "cities_names = [\"Boston\", \"Brattleboro\", \"Concord\", \"Hartford\", \"Manchester\", \n",
    "               \"Nashua\", \"New_Haven\", \"New_London\", \"Portsmouth\", \"Providence\", \"Springfield\", \"Worcester\"]\n",
    "cities_demands = [425, 12, 43, 125, 110, 86, 129, 28, 66, 320, 220, 182]\n",
    "\n",
    "# Creating a dataframe of cities with their corresponding names and demands.\n",
    "df_cities = pd.DataFrame({\n",
    "    \"id\": cities,\n",
    "    \"name\": cities_names,\n",
    "    \"demand\": cities_demands\n",
    "})\n",
    "print(df_cities)\n",
    "\n",
    "candidates = [\"BO\", \"NA\", \"PR\", \"SP\", \"WO\"]\n",
    "\n",
    "# Defining a distance matrix representing distances between cities (lines according to the vector cities) \n",
    "#and candidates (columns according to the vector of candidates)\n",
    "distance_matrix = [[0, 37, 42, 82, 34],\n",
    "[93, 65, 106, 59, 68],\n",
    "[69, 33, 105, 101, 72],\n",
    "[98, 103, 73, 27, 66],\n",
    "[55, 20, 92, 93, 60],\n",
    "[37, 0, 72, 79, 41],\n",
    "[128, 137, 94, 63, 98],\n",
    "[95, 113, 57, 57, 71],\n",
    "[62, 48, 104, 127, 85],\n",
    "[42, 72, 0, 68, 38],\n",
    "[82, 79, 68, 0, 47],\n",
    "[34, 41, 38, 47, 0]\n",
    "]\n",
    "\n",
    "\n",
    "fi = 10000    # fixed cost\n",
    "cij = 1     #dolar per mile\n",
    "S = 2000    # Supply max used in excel example\n",
    "\n",
    "#defining total number of cities and candidates\n",
    "num_cities = len(cities)\n",
    "num_candidates = len(candidates)\n",
    "\n",
    "P = 1 #number of DCs allowed to open"
   ]
  },
  {
   "cell_type": "markdown",
   "id": "5cb42343",
   "metadata": {},
   "source": [
    "### Single Location Weber Problem "
   ]
  },
  {
   "cell_type": "code",
   "execution_count": 3,
   "id": "242e2f4e",
   "metadata": {},
   "outputs": [],
   "source": [
    "# Create a solver instance\n",
    "solver = pywraplp.Solver.CreateSolver('SCIP')"
   ]
  },
  {
   "cell_type": "code",
   "execution_count": 4,
   "id": "dfb424d4",
   "metadata": {},
   "outputs": [],
   "source": [
    "# Declare variables\n",
    "x = {}  # Variables for transportation between the arc candidates to cities. \n",
    "y = {}  # Variables to represent whether a candidate city is open or not (binary).\n",
    "\n",
    "for i in range(num_candidates):\n",
    "    for j in range(num_cities):\n",
    "        x[i,j] = solver.NumVar(0, solver.infinity(), \"\") # already implementing the non-negativity constraint\n",
    "    y[i] = solver.BoolVar(\"\")"
   ]
  },
  {
   "cell_type": "code",
   "execution_count": 5,
   "id": "a55a2980",
   "metadata": {},
   "outputs": [],
   "source": [
    "M = S # M is a very big number in this case equals to the total supply"
   ]
  },
  {
   "cell_type": "code",
   "execution_count": 6,
   "id": "3e129337",
   "metadata": {},
   "outputs": [
    {
     "name": "stdout",
     "output_type": "stream",
     "text": [
      "Number of constraints = 78\n"
     ]
    }
   ],
   "source": [
    "#Declare Constraints\n",
    "#Supply limit \n",
    "for i in range(num_candidates):\n",
    "    sum_value = 0\n",
    "    for j in range(num_cities):\n",
    "        sum_value += x[i,j]\n",
    "    solver.Add(sum_value <= S)\n",
    "    \n",
    "# Demand requirement\n",
    "for j in range(num_cities):\n",
    "    solver.Add(solver.Sum([x[i,j] for i in range(num_candidates)]) >= df_cities.demand[j])\n",
    "\n",
    "# Only P candidate cities should be open.\n",
    "solver.Add(solver.Sum([y[i] for i in range(num_candidates)]) == P)\n",
    "\n",
    "# linking constraints\n",
    "for i in range(num_candidates):\n",
    "    for j in range(num_cities):\n",
    "        solver.Add(x[i,j] - M*y[i]  <= 0 )\n",
    "\n",
    "print('Number of constraints =', solver.NumConstraints())"
   ]
  },
  {
   "cell_type": "code",
   "execution_count": 7,
   "id": "58db5143",
   "metadata": {},
   "outputs": [],
   "source": [
    "# Calculate the fixed cost if a DC is open at location i\n",
    "fixed_cost = solver.Sum([ fi * y[i]\n",
    "                            for i in range(num_candidates)])\n",
    "\n",
    "#Calculate transportation cost. Cost c_ij * distance in this example\n",
    "transportation_cost = solver.Sum([ x[i,j] * distance_matrix[j][i] * cij\n",
    "                            for i in range(num_candidates)\n",
    "                           for j in range(num_cities)])\n",
    "# Setting the objective function to minimize the total cost\n",
    "solver.Minimize( transportation_cost + fixed_cost)"
   ]
  },
  {
   "cell_type": "code",
   "execution_count": 8,
   "id": "f8ecb278",
   "metadata": {},
   "outputs": [],
   "source": [
    "# Solve the problem\n",
    "status = solver.Solve()"
   ]
  },
  {
   "cell_type": "code",
   "execution_count": 9,
   "id": "349f0c9f",
   "metadata": {},
   "outputs": [
    {
     "name": "stdout",
     "output_type": "stream",
     "text": [
      "Total cost = 89478.0 per week\n",
      "Open DC in WO\n",
      "\n",
      "Advanced usage:\n",
      "Problem solved in 142.000000 milliseconds\n",
      "Problem solved in 26 iterations\n"
     ]
    }
   ],
   "source": [
    "if status == pywraplp.Solver.OPTIMAL or status == pywraplp.Solver.FEASIBLE:\n",
    "    print(f'Total cost = {solver.Objective().Value()} per week')\n",
    "    for i in range(num_candidates):\n",
    "        if y[i].solution_value() > 0:\n",
    "            print(f'Open DC in {candidates[i]}' )  \n",
    "else:\n",
    "    print('No solution found.')\n",
    "print('\\nAdvanced usage:')\n",
    "print('Problem solved in %f milliseconds' % solver.wall_time())\n",
    "print('Problem solved in %d iterations' % solver.iterations())"
   ]
  },
  {
   "cell_type": "markdown",
   "id": "c6958eb3",
   "metadata": {},
   "source": [
    "## Enforcing Level of Service Constraints (NERD3)\n",
    "In this section the model will have the same information but some more constraints will be considered."
   ]
  },
  {
   "cell_type": "code",
   "execution_count": 10,
   "id": "ad6925b3",
   "metadata": {},
   "outputs": [],
   "source": [
    "#Inputs\n",
    "P_min = 1\n",
    "P_max = num_candidates\n",
    "MaxAvgDist = 60 \n",
    "MinPctIn50 = .8"
   ]
  },
  {
   "cell_type": "code",
   "execution_count": 11,
   "id": "52613173",
   "metadata": {},
   "outputs": [],
   "source": [
    "#in this cell all the previously considerations are the same\n",
    "# Create a solverII instance\n",
    "solverII = pywraplp.Solver.CreateSolver('SCIP')\n",
    "\n",
    "# Declare variables\n",
    "x = {}  # Variables for transportation between the arc candidates to cities. \n",
    "y = {}  # Variables to represent whether a candidate city is open or not (binary).\n",
    "\n",
    "for i in range(num_candidates):\n",
    "    for j in range(num_cities):\n",
    "        x[i,j] = solverII.NumVar(0, solverII.infinity(), \"\") # already implementing the non-negativity constraint\n",
    "    y[i] = solverII.BoolVar(\"\")\n",
    "\n",
    "M = S # M is a very big number in this case equals to the total supply\n",
    "\n",
    "#Declare Constraints\n",
    "#Supply limit \n",
    "for i in range(num_candidates):\n",
    "    sum_value = 0\n",
    "    for j in range(num_cities):\n",
    "        sum_value += x[i,j]\n",
    "    solverII.Add(sum_value <= S)\n",
    "    \n",
    "# Demand requirement\n",
    "for j in range(num_cities):\n",
    "    solverII.Add(solverII.Sum([x[i,j] for i in range(num_candidates)]) == df_cities.demand[j])\n",
    "    \n",
    "# linking constraints\n",
    "for i in range(num_candidates):\n",
    "    for j in range(num_cities):\n",
    "        solverII.Add(x[i,j] - M*y[i]  <= 0 )"
   ]
  },
  {
   "cell_type": "code",
   "execution_count": 12,
   "id": "00d2ed1b",
   "metadata": {},
   "outputs": [
    {
     "data": {
      "text/plain": [
       "<ortools.linear_solver.pywraplp.Constraint; proxy of <Swig Object of type 'operations_research::MPConstraint *' at 0x000001D28DBF3990> >"
      ]
     },
     "execution_count": 12,
     "metadata": {},
     "output_type": "execute_result"
    }
   ],
   "source": [
    "# Now allowing the model to decide how many DCs to open imposing lower and higer bounds \n",
    "solverII.Add(solverII.Sum([y[i] for i in range(num_candidates)]) >= P_min)\n",
    "solverII.Add(solverII.Sum([y[i] for i in range(num_candidates)]) <= P_max)"
   ]
  },
  {
   "cell_type": "code",
   "execution_count": 13,
   "id": "a0143539",
   "metadata": {},
   "outputs": [
    {
     "data": {
      "text/plain": [
       "<ortools.linear_solver.pywraplp.Constraint; proxy of <Swig Object of type 'operations_research::MPConstraint *' at 0x000001D28DC47C90> >"
      ]
     },
     "execution_count": 13,
     "metadata": {},
     "output_type": "execute_result"
    }
   ],
   "source": [
    "# Max Average weighted distance constraint\n",
    "sum_avg_dist = 0\n",
    "sum_demand = sum(cities_demands)\n",
    "\n",
    "for i in range(num_candidates):\n",
    "    for j in range(num_cities):\n",
    "#         sum_demand = cities_demands[j]\n",
    "        sum_avg_dist += (distance_matrix[j][i] * x[i,j])/sum_demand\n",
    "solverII.Add(sum_avg_dist <= MaxAvgDist)\n"
   ]
  },
  {
   "cell_type": "code",
   "execution_count": 14,
   "id": "9c8bdfca",
   "metadata": {},
   "outputs": [
    {
     "data": {
      "text/plain": [
       "<ortools.linear_solver.pywraplp.Constraint; proxy of <Swig Object of type 'operations_research::MPConstraint *' at 0x000001D28DC659E0> >"
      ]
     },
     "execution_count": 14,
     "metadata": {},
     "output_type": "execute_result"
    }
   ],
   "source": [
    "# Min Percent of demand constraint\n",
    "sum_pct = 0\n",
    "\n",
    "for i in range(num_candidates):\n",
    "    for j in range(num_cities):\n",
    "        a_ij = 1 if distance_matrix[j][i] <=50 else 0\n",
    "        sum_pct += (a_ij * x[i,j])/sum_demand\n",
    "solverII.Add(sum_pct >= MinPctIn50)\n"
   ]
  },
  {
   "cell_type": "code",
   "execution_count": 15,
   "id": "1e329380",
   "metadata": {},
   "outputs": [
    {
     "name": "stdout",
     "output_type": "stream",
     "text": [
      "Number of constraints = 81\n"
     ]
    }
   ],
   "source": [
    "print('Number of constraints =', solverII.NumConstraints())"
   ]
  },
  {
   "cell_type": "code",
   "execution_count": 16,
   "id": "fbf7e27e",
   "metadata": {},
   "outputs": [],
   "source": [
    "# Calculate the fixed cost if a DC is open at location i\n",
    "fixed_cost = solverII.Sum([ fi * y[i]\n",
    "                            for i in range(num_candidates)])\n",
    "\n",
    "#Calculate transportation cost. Cost c_ij * distance in this example\n",
    "transportation_cost = solverII.Sum([ x[i,j] * distance_matrix[j][i] * cij\n",
    "                            for i in range(num_candidates)\n",
    "                           for j in range(num_cities)])\n",
    "# Setting the objective function to minimize the total cost\n",
    "solverII.Minimize( transportation_cost + fixed_cost)"
   ]
  },
  {
   "cell_type": "code",
   "execution_count": 17,
   "id": "185a792f",
   "metadata": {},
   "outputs": [
    {
     "name": "stdout",
     "output_type": "stream",
     "text": [
      "Total cost = 66781.0 per week\n",
      "Open DC in BO\n",
      "Open DC in NA\n",
      "Open DC in PR\n",
      "Open DC in SP\n",
      "\n",
      "Advanced usage:\n",
      "Problem solved in 168.000000 milliseconds\n",
      "Problem solved in 24 iterations\n"
     ]
    }
   ],
   "source": [
    "# Solve the problem\n",
    "statusII = solverII.Solve()\n",
    "\n",
    "if statusII == pywraplp.Solver.OPTIMAL or status == pywraplp.Solver.FEASIBLE:\n",
    "    print(f'Total cost = {solverII.Objective().Value()} per week')\n",
    "    for i in range(num_candidates):\n",
    "        if y[i].solution_value() > 0:\n",
    "            print(f'Open DC in {candidates[i]}' )  \n",
    "else:\n",
    "    print('No solution found.')\n",
    "print('\\nAdvanced usage:')\n",
    "print('Problem solved in %f milliseconds' % solverII.wall_time())\n",
    "print('Problem solved in %d iterations' % solverII.iterations())"
   ]
  },
  {
   "cell_type": "code",
   "execution_count": null,
   "id": "74d204b9",
   "metadata": {},
   "outputs": [],
   "source": []
  }
 ],
 "metadata": {
  "kernelspec": {
   "display_name": "Python 3 (ipykernel)",
   "language": "python",
   "name": "python3"
  },
  "language_info": {
   "codemirror_mode": {
    "name": "ipython",
    "version": 3
   },
   "file_extension": ".py",
   "mimetype": "text/x-python",
   "name": "python",
   "nbconvert_exporter": "python",
   "pygments_lexer": "ipython3",
   "version": "3.10.4"
  }
 },
 "nbformat": 4,
 "nbformat_minor": 5
}
